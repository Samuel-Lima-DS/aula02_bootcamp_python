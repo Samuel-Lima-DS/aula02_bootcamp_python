{
 "cells": [
  {
   "cell_type": "markdown",
   "metadata": {},
   "source": [
    "# 1) Solicita ao usuário que digite seu nome\n",
    "\n"
   ]
  },
  {
   "cell_type": "code",
   "execution_count": 2,
   "metadata": {},
   "outputs": [
    {
     "name": "stdout",
     "output_type": "stream",
     "text": [
      "O nome não deve conter números.\n"
     ]
    }
   ],
   "source": [
    "try:\n",
    "    nome = input(\"Digite seu nome: \")\n",
    "\n",
    "    # Verifica se o nome está vazio\n",
    "    if len(nome) == 0:\n",
    "        raise ValueError(\"O nome não pode estar vazio.\")\n",
    "    # Verifica se há números no nome\n",
    "    elif any(char.isdigit() for char in nome):\n",
    "        raise ValueError(\"O nome não deve conter números.\")\n",
    "    else:\n",
    "        print(\"Nome válido:\", nome)\n",
    "except ValueError as e:\n",
    "    print(e)"
   ]
  },
  {
   "cell_type": "markdown",
   "metadata": {},
   "source": [
    "# 2) Solicita ao usuário que digite o valor do seu salário\n",
    "# Converte a entrada para um número de ponto flutuante\n",
    "\n"
   ]
  },
  {
   "cell_type": "code",
   "execution_count": 10,
   "metadata": {},
   "outputs": [
    {
     "name": "stdout",
     "output_type": "stream",
     "text": [
      "1.0\n"
     ]
    }
   ],
   "source": [
    "try:\n",
    "    salario = float(input(\"Digite o valor do seu salário: \"))\n",
    "    if salario < 0:\n",
    "        print(\"Por favor, digite um valor positivo para o salário.\")\n",
    "    else: print(salario)\n",
    "except ValueError:\n",
    "    print(\"Entrada inválida para o salário. Por favor, digite um número.\")\n",
    "\n"
   ]
  },
  {
   "cell_type": "markdown",
   "metadata": {},
   "source": [
    "# 3) Solicita ao usuário que digite o valor do bônus recebido\n",
    "# Converte a entrada para um número de ponto flutuante\n",
    "\n"
   ]
  },
  {
   "cell_type": "code",
   "execution_count": 11,
   "metadata": {},
   "outputs": [
    {
     "name": "stdout",
     "output_type": "stream",
     "text": [
      "500.0\n"
     ]
    }
   ],
   "source": [
    "try:\n",
    "    bonus_recebido = float(input(\"Digite o valor do bônus recebido: \"))\n",
    "    if bonus_recebido < 0:\n",
    "        print(\"Por favor, digite um valor positivo para o bônus.\")\n",
    "    else: print(bonus_recebido)\n",
    "except ValueError:\n",
    "    print(\"Entrada inválida para o bônus. Por favor, digite um número.\")"
   ]
  },
  {
   "cell_type": "markdown",
   "metadata": {},
   "source": [
    "# 4) Calcule o valor do bônus final\n",
    "\n"
   ]
  },
  {
   "cell_type": "code",
   "execution_count": 12,
   "metadata": {},
   "outputs": [],
   "source": [
    "bonus_final = bonus_recebido * 1.2  # Exemplo, ajuste conforme necessário\n",
    "kpi = (salario + bonus_final) / 1000  # Exemplo simples de KPI"
   ]
  },
  {
   "cell_type": "markdown",
   "metadata": {},
   "source": [
    "# 5) Imprime a mensagem personalizada incluindo o nome do usuário, salário e bônus"
   ]
  },
  {
   "cell_type": "code",
   "execution_count": 13,
   "metadata": {},
   "outputs": [
    {
     "name": "stdout",
     "output_type": "stream",
     "text": [
      "Seu KPI é: 0.60\n",
      "samuel1, seu salário é R$1.00 e seu bônus final é R$600.00.\n"
     ]
    }
   ],
   "source": [
    "print(f\"Seu KPI é: {kpi:.2f}\")\n",
    "print(f\"{nome}, seu salário é R${salario:.2f} e seu bônus final é R${bonus_final:.2f}.\")"
   ]
  }
 ],
 "metadata": {
  "kernelspec": {
   "display_name": "Python 3",
   "language": "python",
   "name": "python3"
  },
  "language_info": {
   "codemirror_mode": {
    "name": "ipython",
    "version": 3
   },
   "file_extension": ".py",
   "mimetype": "text/x-python",
   "name": "python",
   "nbconvert_exporter": "python",
   "pygments_lexer": "ipython3",
   "version": "3.12.5"
  }
 },
 "nbformat": 4,
 "nbformat_minor": 2
}
