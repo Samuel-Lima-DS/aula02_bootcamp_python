{
 "cells": [
  {
   "cell_type": "markdown",
   "metadata": {},
   "source": [
    "#  Inteiros (int)\n"
   ]
  },
  {
   "cell_type": "markdown",
   "metadata": {},
   "source": [
    "## 1 - Escreva um programa que soma dois números inteiros inseridos pelo usuário."
   ]
  },
  {
   "cell_type": "code",
   "execution_count": 1,
   "metadata": {},
   "outputs": [
    {
     "name": "stdout",
     "output_type": "stream",
     "text": [
      "o resultado e: 15\n"
     ]
    }
   ],
   "source": [
    "num1 = input('Insira um numero:')\n",
    "num2 = input('Insira outro numero:')\n",
    "print('o resultado e:', int(num1) + int(num2))"
   ]
  },
  {
   "cell_type": "markdown",
   "metadata": {},
   "source": [
    "## 2. Crie um programa que receba um número do usuário e calcule o resto da divisão desse número por 5."
   ]
  },
  {
   "cell_type": "code",
   "execution_count": 2,
   "metadata": {},
   "outputs": [
    {
     "name": "stdout",
     "output_type": "stream",
     "text": [
      " O resultado da divisao por 5 e:3\n"
     ]
    }
   ],
   "source": [
    "num =int( input('Digite um numero:'))\n",
    "resultado = num % 5\n",
    "print (f' O resultado da divisao por 5 e:{resultado}')\n"
   ]
  },
  {
   "cell_type": "markdown",
   "metadata": {},
   "source": [
    "## 3. Desenvolva um programa que multiplique dois números fornecidos pelo usuário e mostre o resultado."
   ]
  },
  {
   "cell_type": "code",
   "execution_count": 3,
   "metadata": {},
   "outputs": [
    {
     "name": "stdout",
     "output_type": "stream",
     "text": [
      "O resultado da multiplicacao e:50\n"
     ]
    }
   ],
   "source": [
    "num1 = input('Insira um numero:')\n",
    "num2 = input('Insira outro numero:')\n",
    "\n",
    "multiplicacao = int(num1) * int(num2)\n",
    "print(f'O resultado da multiplicacao e:{multiplicacao}')"
   ]
  },
  {
   "cell_type": "markdown",
   "metadata": {},
   "source": [
    "## 4. Faça um programa que peça dois números inteiros e imprima a divisão inteira do primeiro pelo segundo"
   ]
  },
  {
   "cell_type": "code",
   "execution_count": 6,
   "metadata": {},
   "outputs": [
    {
     "name": "stdout",
     "output_type": "stream",
     "text": [
      "O resultado da divisão inteira é: 6\n"
     ]
    }
   ],
   "source": [
    "# num1 = int(input(\"Digite o primeiro número inteiro: \"))\n",
    "# num2 = int(input(\"Digite o segundo número inteiro: \"))\n",
    "num1 = 20  # Exemplo de entrada\n",
    "num2 = 3  # Exemplo de entrada\n",
    "resultado_divisao_inteira = num1 // num2\n",
    "print(\"O resultado da divisão inteira é:\", resultado_divisao_inteira)"
   ]
  },
  {
   "cell_type": "markdown",
   "metadata": {},
   "source": [
    "## 5. Escreva um programa que calcule o quadrado de um número fornecido pelo usuário."
   ]
  },
  {
   "cell_type": "code",
   "execution_count": 10,
   "metadata": {},
   "outputs": [
    {
     "name": "stdout",
     "output_type": "stream",
     "text": [
      " o resulttado do valor ao quadrado e: 9\n"
     ]
    }
   ],
   "source": [
    "num1 = int(input(\"Digite o primeiro número inteiro: \"))\n",
    "resultado = num1**2\n",
    "print (\" o resulttado do valor ao quadrado e:\", resultado)"
   ]
  },
  {
   "cell_type": "markdown",
   "metadata": {},
   "source": [
    "# Números de Ponto Flutuante (`float`)"
   ]
  },
  {
   "cell_type": "markdown",
   "metadata": {},
   "source": [
    "## 6. Escreva um programa que receba dois números flutuantes e realize sua adição."
   ]
  },
  {
   "cell_type": "code",
   "execution_count": 11,
   "metadata": {},
   "outputs": [
    {
     "name": "stdout",
     "output_type": "stream",
     "text": [
      " A soma dos numeros e : 3.8\n"
     ]
    }
   ],
   "source": [
    "num1 = float(input(\"Digite o primeiro número inteiro: \"))\n",
    "num2 = float(input(\"Digite o segundo número inteiro: \"))\n",
    "\n",
    "resultado_adicao = num1 + num2\n",
    "print( ' A soma dos numeros e :', resultado_adicao)"
   ]
  },
  {
   "cell_type": "markdown",
   "metadata": {},
   "source": [
    "## 7. Crie um programa que calcule a média de dois números flutuantes fornecidos pelo usuário"
   ]
  },
  {
   "cell_type": "code",
   "execution_count": 16,
   "metadata": {},
   "outputs": [
    {
     "name": "stdout",
     "output_type": "stream",
     "text": [
      "A média é: 4.5\n"
     ]
    }
   ],
   "source": [
    "num1 = float(input(\"Digite o primeiro número inteiro: \"))\n",
    "num2 = float(input(\"Digite o segundo número inteiro: \"))\n",
    "\n",
    "media = (num1 + num2) / 2\n",
    "print(\"A média é:\", media)"
   ]
  },
  {
   "cell_type": "markdown",
   "metadata": {},
   "source": [
    "## 8. Desenvolva um programa que calcule a potência de um número (base e expoente fornecidos pelo usuário)."
   ]
  },
  {
   "cell_type": "code",
   "execution_count": 17,
   "metadata": {},
   "outputs": [
    {
     "name": "stdout",
     "output_type": "stream",
     "text": [
      "O resultado da potência é: 8.0\n"
     ]
    }
   ],
   "source": [
    "# base = float(input(\"Digite a base: \"))\n",
    "# expoente = float(input(\"Digite o expoente: \"))\n",
    "base = 2.0  # Exemplo de entrada\n",
    "expoente = 3.0  # Exemplo de entrada\n",
    "potencia = base ** expoente\n",
    "print(\"O resultado da potência é:\", potencia)"
   ]
  },
  {
   "cell_type": "markdown",
   "metadata": {},
   "source": [
    "## 9. Faça um programa que converta a temperatura de Celsius para Fahrenheit.\n"
   ]
  },
  {
   "cell_type": "code",
   "execution_count": 18,
   "metadata": {},
   "outputs": [
    {
     "name": "stdout",
     "output_type": "stream",
     "text": [
      "30.0°C é igual a 86.0°F\n"
     ]
    }
   ],
   "source": [
    "# celsius = float(input(\"Digite a temperatura em Celsius: \"))\n",
    "celsius = 30.0  # Exemplo de entrada\n",
    "fahrenheit = (celsius * 9/5) + 32\n",
    "print(f\"{celsius}°C é igual a {fahrenheit}°F\")"
   ]
  },
  {
   "cell_type": "markdown",
   "metadata": {},
   "source": [
    "## 10. Escreva um programa que calcule a área de um círculo, recebendo o raio como entrada."
   ]
  },
  {
   "cell_type": "code",
   "execution_count": 19,
   "metadata": {},
   "outputs": [
    {
     "name": "stdout",
     "output_type": "stream",
     "text": [
      "A área do círculo é: 78.53975\n"
     ]
    }
   ],
   "source": [
    "# raio = float(input(\"Digite o raio do círculo: \"))\n",
    "raio = 5.0  # Exemplo de entrada\n",
    "area = 3.14159 * raio ** 2\n",
    "print(\"A área do círculo é:\", area)"
   ]
  },
  {
   "cell_type": "markdown",
   "metadata": {},
   "source": [
    "# Strings (str)"
   ]
  },
  {
   "cell_type": "markdown",
   "metadata": {},
   "source": [
    "## 11. Escreva um programa que receba uma string do usuário e a converta para maiúsculas."
   ]
  },
  {
   "cell_type": "code",
   "execution_count": 1,
   "metadata": {},
   "outputs": [
    {
     "name": "stdout",
     "output_type": "stream",
     "text": [
      "LUCAS\n"
     ]
    }
   ],
   "source": [
    "string = input(\"Digite uma string: \") \n",
    "string = string.upper()\n",
    "print(string)"
   ]
  },
  {
   "cell_type": "markdown",
   "metadata": {},
   "source": [
    "## 12. Crie um programa que receba o nome completo do usuário e imprima o nome com todas as letras minúsculas."
   ]
  },
  {
   "cell_type": "code",
   "execution_count": 3,
   "metadata": {},
   "outputs": [
    {
     "name": "stdout",
     "output_type": "stream",
     "text": [
      "SSAMUEL LIMA E SILVA\n"
     ]
    }
   ],
   "source": [
    "nome = input(\"Digite nome completo: \") \n",
    "nome = nome.upper()\n",
    "print(nome)"
   ]
  },
  {
   "cell_type": "markdown",
   "metadata": {},
   "source": [
    "## 13. Desenvolva um programa que peça ao usuário para inserir uma frase e, em seguida, imprima esta frase sem espaços em branco no início e no final."
   ]
  },
  {
   "cell_type": "code",
   "execution_count": 4,
   "metadata": {},
   "outputs": [
    {
     "name": "stdout",
     "output_type": "stream",
     "text": [
      "Frase sem espaços no início e no final: Olá, mundo!\n"
     ]
    }
   ],
   "source": [
    "frase = \"  Olá, mundo!  \"  # Exemplo de entrada\n",
    "frase_sem_espacos = frase.strip()\n",
    "print(\"Frase sem espaços no início e no final:\", frase_sem_espacos)"
   ]
  },
  {
   "cell_type": "markdown",
   "metadata": {},
   "source": [
    "## 14. Faça um programa que peça ao usuário para digitar uma data no formato \"dd/mm/aaaa\" e, em seguida, imprima o dia, o mês e o ano separadamente."
   ]
  },
  {
   "cell_type": "code",
   "execution_count": 5,
   "metadata": {},
   "outputs": [
    {
     "name": "stdout",
     "output_type": "stream",
     "text": [
      "Dia: 01\n",
      "Mês: 01\n",
      "Ano: 2024\n"
     ]
    }
   ],
   "source": [
    "# data = input(\"Digite uma data no formato dd/mm/aaaa: \")\n",
    "data = \"01/01/2024\"  # Exemplo de entrada\n",
    "dia, mes, ano = data.split(\"/\")\n",
    "print(\"Dia:\", dia)\n",
    "print(\"Mês:\", mes)\n",
    "print(\"Ano:\", ano)"
   ]
  },
  {
   "cell_type": "markdown",
   "metadata": {},
   "source": [
    "## 15. Escreva um programa que concatene duas strings fornecidas pelo usuário."
   ]
  },
  {
   "cell_type": "code",
   "execution_count": 6,
   "metadata": {},
   "outputs": [
    {
     "name": "stdout",
     "output_type": "stream",
     "text": [
      "Texto concatenado: Olá, mundo!\n"
     ]
    }
   ],
   "source": [
    "# parte1 = input(\"Digite a primeira parte do texto: \")\n",
    "# parte2 = input(\"Digite a segunda parte do texto: \")\n",
    "parte1 = \"Olá,\"  # Exemplo de entrada\n",
    "parte2 = \" mundo!\"  # Exemplo de entrada\n",
    "texto_concatenado = parte1 + parte2\n",
    "print(\"Texto concatenado:\", texto_concatenado)"
   ]
  },
  {
   "cell_type": "markdown",
   "metadata": {},
   "source": [
    "# Booleanos (`bool`)"
   ]
  },
  {
   "cell_type": "markdown",
   "metadata": {},
   "source": [
    "## 16. Escreva um programa que avalie duas expressões booleanas inseridas pelo usuário e retorne o resultado da operação AND entre elas."
   ]
  },
  {
   "cell_type": "code",
   "execution_count": 8,
   "metadata": {},
   "outputs": [
    {
     "name": "stdout",
     "output_type": "stream",
     "text": [
      "Resultado do AND lógico: True\n"
     ]
    }
   ],
   "source": [
    "valor1 = True\n",
    "valor2 = True\n",
    "resultado_and = valor1 and valor2\n",
    "print(\"Resultado do AND lógico:\", resultado_and)"
   ]
  },
  {
   "cell_type": "markdown",
   "metadata": {},
   "source": [
    "## 17. Crie um programa que receba dois valores booleanos do usuário e retorne o resultado da operação OR."
   ]
  },
  {
   "cell_type": "code",
   "execution_count": 11,
   "metadata": {},
   "outputs": [
    {
     "name": "stdout",
     "output_type": "stream",
     "text": [
      "Resultado do AND lógico: False\n"
     ]
    }
   ],
   "source": [
    "valor1 = False\n",
    "valor2 = False\n",
    "resultado_and = valor1 or valor2\n",
    "print(\"Resultado do AND lógico:\", resultado_and)"
   ]
  },
  {
   "cell_type": "markdown",
   "metadata": {},
   "source": [
    "## 18. Desenvolva um programa que peça ao usuário para inserir um valor booleano e, em seguida, inverta esse valor"
   ]
  },
  {
   "cell_type": "code",
   "execution_count": 12,
   "metadata": {},
   "outputs": [
    {
     "name": "stdout",
     "output_type": "stream",
     "text": [
      "Resultado do NOT lógico: True\n"
     ]
    }
   ],
   "source": [
    "resultado_not = not valor1\n",
    "print(\"Resultado do NOT lógico:\", resultado_not)"
   ]
  },
  {
   "cell_type": "markdown",
   "metadata": {},
   "source": [
    "## 19. Faça um programa que compare se dois números fornecidos pelo usuário são iguais."
   ]
  },
  {
   "cell_type": "code",
   "execution_count": 13,
   "metadata": {},
   "outputs": [
    {
     "name": "stdout",
     "output_type": "stream",
     "text": [
      "Resultado da igualdade: True\n"
     ]
    }
   ],
   "source": [
    "num1 = 5\n",
    "num2 = 5\n",
    "resultado_igualdade = (num1 == num2)\n",
    "print(\"Resultado da igualdade:\", resultado_igualdade)"
   ]
  },
  {
   "cell_type": "markdown",
   "metadata": {},
   "source": [
    "#"
   ]
  },
  {
   "cell_type": "markdown",
   "metadata": {},
   "source": [
    "## 20. Escreva um programa que verifique se dois números fornecidos pelo usuário são diferentes."
   ]
  },
  {
   "cell_type": "code",
   "execution_count": 15,
   "metadata": {},
   "outputs": [
    {
     "name": "stdout",
     "output_type": "stream",
     "text": [
      "Resultado da diferenca: True\n"
     ]
    }
   ],
   "source": [
    "num1 = 5\n",
    "num2 = 7\n",
    "resultado_diferente = (num1 != num2)\n",
    "print(\"Resultado da diferenca:\", resultado_diferente)"
   ]
  }
 ],
 "metadata": {
  "kernelspec": {
   "display_name": "Python 3",
   "language": "python",
   "name": "python3"
  },
  "language_info": {
   "codemirror_mode": {
    "name": "ipython",
    "version": 3
   },
   "file_extension": ".py",
   "mimetype": "text/x-python",
   "name": "python",
   "nbconvert_exporter": "python",
   "pygments_lexer": "ipython3",
   "version": "3.12.5"
  }
 },
 "nbformat": 4,
 "nbformat_minor": 2
}
