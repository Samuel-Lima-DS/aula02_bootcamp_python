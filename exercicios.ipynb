{
 "cells": [
  {
   "cell_type": "markdown",
   "metadata": {},
   "source": [
    "#  Inteiros (int)\n"
   ]
  },
  {
   "cell_type": "markdown",
   "metadata": {},
   "source": [
    "## 1 - Escreva um programa que soma dois números inteiros inseridos pelo usuário."
   ]
  },
  {
   "cell_type": "code",
   "execution_count": 1,
   "metadata": {},
   "outputs": [
    {
     "name": "stdout",
     "output_type": "stream",
     "text": [
      "o resultado e: 15\n"
     ]
    }
   ],
   "source": [
    "num1 = input('Insira um numero:')\n",
    "num2 = input('Insira outro numero:')\n",
    "print('o resultado e:', int(num1) + int(num2))"
   ]
  },
  {
   "cell_type": "markdown",
   "metadata": {},
   "source": [
    "## 2. Crie um programa que receba um número do usuário e calcule o resto da divisão desse número por 5."
   ]
  },
  {
   "cell_type": "code",
   "execution_count": 2,
   "metadata": {},
   "outputs": [
    {
     "name": "stdout",
     "output_type": "stream",
     "text": [
      " O resultado da divisao por 5 e:3\n"
     ]
    }
   ],
   "source": [
    "num =int( input('Digite um numero:'))\n",
    "resultado = num % 5\n",
    "print (f' O resultado da divisao por 5 e:{resultado}')\n"
   ]
  },
  {
   "cell_type": "markdown",
   "metadata": {},
   "source": [
    "## 3. Desenvolva um programa que multiplique dois números fornecidos pelo usuário e mostre o resultado."
   ]
  },
  {
   "cell_type": "code",
   "execution_count": 3,
   "metadata": {},
   "outputs": [
    {
     "name": "stdout",
     "output_type": "stream",
     "text": [
      "O resultado da multiplicacao e:50\n"
     ]
    }
   ],
   "source": [
    "num1 = input('Insira um numero:')\n",
    "num2 = input('Insira outro numero:')\n",
    "\n",
    "multiplicacao = int(num1) * int(num2)\n",
    "print(f'O resultado da multiplicacao e:{multiplicacao}')"
   ]
  },
  {
   "cell_type": "markdown",
   "metadata": {},
   "source": [
    "## 4. Faça um programa que peça dois números inteiros e imprima a divisão inteira do primeiro pelo segundo"
   ]
  },
  {
   "cell_type": "code",
   "execution_count": 6,
   "metadata": {},
   "outputs": [
    {
     "name": "stdout",
     "output_type": "stream",
     "text": [
      "O resultado da divisão inteira é: 6\n"
     ]
    }
   ],
   "source": [
    "# num1 = int(input(\"Digite o primeiro número inteiro: \"))\n",
    "# num2 = int(input(\"Digite o segundo número inteiro: \"))\n",
    "num1 = 20  # Exemplo de entrada\n",
    "num2 = 3  # Exemplo de entrada\n",
    "resultado_divisao_inteira = num1 // num2\n",
    "print(\"O resultado da divisão inteira é:\", resultado_divisao_inteira)"
   ]
  },
  {
   "cell_type": "markdown",
   "metadata": {},
   "source": [
    "## 5. Escreva um programa que calcule o quadrado de um número fornecido pelo usuário."
   ]
  },
  {
   "cell_type": "code",
   "execution_count": 10,
   "metadata": {},
   "outputs": [
    {
     "name": "stdout",
     "output_type": "stream",
     "text": [
      " o resulttado do valor ao quadrado e: 9\n"
     ]
    }
   ],
   "source": [
    "num1 = int(input(\"Digite o primeiro número inteiro: \"))\n",
    "resultado = num1**2\n",
    "print (\" o resulttado do valor ao quadrado e:\", resultado)"
   ]
  },
  {
   "cell_type": "markdown",
   "metadata": {},
   "source": [
    "# Números de Ponto Flutuante (`float`)"
   ]
  },
  {
   "cell_type": "markdown",
   "metadata": {},
   "source": [
    "## 6. Escreva um programa que receba dois números flutuantes e realize sua adição."
   ]
  },
  {
   "cell_type": "code",
   "execution_count": 11,
   "metadata": {},
   "outputs": [
    {
     "name": "stdout",
     "output_type": "stream",
     "text": [
      " A soma dos numeros e : 3.8\n"
     ]
    }
   ],
   "source": [
    "num1 = float(input(\"Digite o primeiro número inteiro: \"))\n",
    "num2 = float(input(\"Digite o segundo número inteiro: \"))\n",
    "\n",
    "resultado_adicao = num1 + num2\n",
    "print( ' A soma dos numeros e :', resultado_adicao)"
   ]
  },
  {
   "cell_type": "markdown",
   "metadata": {},
   "source": [
    "## 7. Crie um programa que calcule a média de dois números flutuantes fornecidos pelo usuário"
   ]
  },
  {
   "cell_type": "code",
   "execution_count": 16,
   "metadata": {},
   "outputs": [
    {
     "name": "stdout",
     "output_type": "stream",
     "text": [
      "A média é: 4.5\n"
     ]
    }
   ],
   "source": [
    "num1 = float(input(\"Digite o primeiro número inteiro: \"))\n",
    "num2 = float(input(\"Digite o segundo número inteiro: \"))\n",
    "\n",
    "media = (num1 + num2) / 2\n",
    "print(\"A média é:\", media)"
   ]
  },
  {
   "cell_type": "markdown",
   "metadata": {},
   "source": [
    "## 8. Desenvolva um programa que calcule a potência de um número (base e expoente fornecidos pelo usuário)."
   ]
  },
  {
   "cell_type": "code",
   "execution_count": 17,
   "metadata": {},
   "outputs": [
    {
     "name": "stdout",
     "output_type": "stream",
     "text": [
      "O resultado da potência é: 8.0\n"
     ]
    }
   ],
   "source": [
    "# base = float(input(\"Digite a base: \"))\n",
    "# expoente = float(input(\"Digite o expoente: \"))\n",
    "base = 2.0  # Exemplo de entrada\n",
    "expoente = 3.0  # Exemplo de entrada\n",
    "potencia = base ** expoente\n",
    "print(\"O resultado da potência é:\", potencia)"
   ]
  },
  {
   "cell_type": "markdown",
   "metadata": {},
   "source": [
    "## 9. Faça um programa que converta a temperatura de Celsius para Fahrenheit.\n"
   ]
  },
  {
   "cell_type": "code",
   "execution_count": 18,
   "metadata": {},
   "outputs": [
    {
     "name": "stdout",
     "output_type": "stream",
     "text": [
      "30.0°C é igual a 86.0°F\n"
     ]
    }
   ],
   "source": [
    "# celsius = float(input(\"Digite a temperatura em Celsius: \"))\n",
    "celsius = 30.0  # Exemplo de entrada\n",
    "fahrenheit = (celsius * 9/5) + 32\n",
    "print(f\"{celsius}°C é igual a {fahrenheit}°F\")"
   ]
  },
  {
   "cell_type": "markdown",
   "metadata": {},
   "source": [
    "## 10. Escreva um programa que calcule a área de um círculo, recebendo o raio como entrada."
   ]
  },
  {
   "cell_type": "code",
   "execution_count": 19,
   "metadata": {},
   "outputs": [
    {
     "name": "stdout",
     "output_type": "stream",
     "text": [
      "A área do círculo é: 78.53975\n"
     ]
    }
   ],
   "source": [
    "# raio = float(input(\"Digite o raio do círculo: \"))\n",
    "raio = 5.0  # Exemplo de entrada\n",
    "area = 3.14159 * raio ** 2\n",
    "print(\"A área do círculo é:\", area)"
   ]
  }
 ],
 "metadata": {
  "kernelspec": {
   "display_name": "Python 3",
   "language": "python",
   "name": "python3"
  },
  "language_info": {
   "codemirror_mode": {
    "name": "ipython",
    "version": 3
   },
   "file_extension": ".py",
   "mimetype": "text/x-python",
   "name": "python",
   "nbconvert_exporter": "python",
   "pygments_lexer": "ipython3",
   "version": "3.12.5"
  }
 },
 "nbformat": 4,
 "nbformat_minor": 2
}
